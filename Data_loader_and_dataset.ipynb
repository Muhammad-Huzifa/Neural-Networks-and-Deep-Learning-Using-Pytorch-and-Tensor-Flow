{
  "nbformat": 4,
  "nbformat_minor": 0,
  "metadata": {
    "colab": {
      "provenance": [],
      "authorship_tag": "ABX9TyNw0AjG/60MrzmgTcaY655j",
      "include_colab_link": true
    },
    "kernelspec": {
      "name": "python3",
      "display_name": "Python 3"
    },
    "language_info": {
      "name": "python"
    }
  },
  "cells": [
    {
      "cell_type": "markdown",
      "metadata": {
        "id": "view-in-github",
        "colab_type": "text"
      },
      "source": [
        "<a href=\"https://colab.research.google.com/github/Muhammad-Huzifa/Neural-Networks-and-Deep-Learning-Using-Pytorch-and-Tensor-Flow/blob/main/Data_loader_and_dataset.ipynb\" target=\"_parent\"><img src=\"https://colab.research.google.com/assets/colab-badge.svg\" alt=\"Open In Colab\"/></a>"
      ]
    },
    {
      "cell_type": "code",
      "execution_count": null,
      "metadata": {
        "id": "-z_pnrv9iF1v"
      },
      "outputs": [],
      "source": [
        "from sklearn.datasets import make_classification\n",
        "import torch"
      ]
    },
    {
      "cell_type": "code",
      "source": [
        "X , y = make_classification(n_samples=10, n_features=2, n_informative=2, n_redundant=0, random_state=42)"
      ],
      "metadata": {
        "id": "1G6trvRlieyD"
      },
      "execution_count": null,
      "outputs": []
    },
    {
      "cell_type": "code",
      "source": [
        "X , y"
      ],
      "metadata": {
        "colab": {
          "base_uri": "https://localhost:8080/"
        },
        "id": "596l3hkHiocm",
        "outputId": "a5ae72ae-f564-4f25-ebde-ff6c1ee8f4a3"
      },
      "execution_count": null,
      "outputs": [
        {
          "output_type": "execute_result",
          "data": {
            "text/plain": [
              "(array([[ 1.06833894, -0.97007347],\n",
              "        [-1.14021544, -0.83879234],\n",
              "        [-2.8953973 ,  1.97686236],\n",
              "        [-0.72063436, -0.96059253],\n",
              "        [-1.96287438, -0.99225135],\n",
              "        [-0.9382051 , -0.54304815],\n",
              "        [ 1.72725924, -1.18582677],\n",
              "        [ 1.77736657,  1.51157598],\n",
              "        [ 1.89969252,  0.83444483],\n",
              "        [-0.58723065, -1.97171753]]),\n",
              " array([1, 0, 0, 0, 0, 1, 1, 1, 1, 0]))"
            ]
          },
          "metadata": {},
          "execution_count": 12
        }
      ]
    },
    {
      "cell_type": "code",
      "source": [
        "X.shape"
      ],
      "metadata": {
        "colab": {
          "base_uri": "https://localhost:8080/"
        },
        "id": "qMlyQxj-iwx0",
        "outputId": "3e54486f-ee20-4210-f9d9-7969b4be36d0"
      },
      "execution_count": null,
      "outputs": [
        {
          "output_type": "execute_result",
          "data": {
            "text/plain": [
              "(10, 2)"
            ]
          },
          "metadata": {},
          "execution_count": 13
        }
      ]
    },
    {
      "cell_type": "code",
      "source": [
        "y"
      ],
      "metadata": {
        "colab": {
          "base_uri": "https://localhost:8080/"
        },
        "id": "58NaPTtEjbNW",
        "outputId": "766b6178-c221-4a91-97df-d6f6a96a28e4"
      },
      "execution_count": null,
      "outputs": [
        {
          "output_type": "execute_result",
          "data": {
            "text/plain": [
              "array([1, 0, 0, 0, 0, 1, 1, 1, 1, 0])"
            ]
          },
          "metadata": {},
          "execution_count": 14
        }
      ]
    },
    {
      "cell_type": "code",
      "source": [
        "X = torch.tensor(X , dtype=torch.float32)\n",
        "y = torch.tensor(y , dtype=torch.float32)"
      ],
      "metadata": {
        "id": "MYiuMncvjbwa"
      },
      "execution_count": null,
      "outputs": []
    },
    {
      "cell_type": "code",
      "source": [
        "X , y"
      ],
      "metadata": {
        "colab": {
          "base_uri": "https://localhost:8080/"
        },
        "id": "mYjJjem7jdxc",
        "outputId": "070e012a-cc21-4559-9644-ea4b425d4937"
      },
      "execution_count": null,
      "outputs": [
        {
          "output_type": "execute_result",
          "data": {
            "text/plain": [
              "(tensor([[ 1.0683, -0.9701],\n",
              "         [-1.1402, -0.8388],\n",
              "         [-2.8954,  1.9769],\n",
              "         [-0.7206, -0.9606],\n",
              "         [-1.9629, -0.9923],\n",
              "         [-0.9382, -0.5430],\n",
              "         [ 1.7273, -1.1858],\n",
              "         [ 1.7774,  1.5116],\n",
              "         [ 1.8997,  0.8344],\n",
              "         [-0.5872, -1.9717]]),\n",
              " tensor([1., 0., 0., 0., 0., 1., 1., 1., 1., 0.]))"
            ]
          },
          "metadata": {},
          "execution_count": 16
        }
      ]
    },
    {
      "cell_type": "code",
      "source": [
        "from torch.utils.data import Dataset , DataLoader"
      ],
      "metadata": {
        "id": "K9n-XzdpjfUA"
      },
      "execution_count": null,
      "outputs": []
    },
    {
      "cell_type": "code",
      "source": [
        "class CustumDataset(Dataset):\n",
        "    def __init__(self , features , labels):\n",
        "        self.features = features\n",
        "        self.labels = labels\n",
        "    def __len__(self):\n",
        "        return self.features.shape[0]\n",
        "    def __getitem__(self , idx):\n",
        "        return self.features[idx] , self.labels[idx]"
      ],
      "metadata": {
        "id": "DRn9i-QRj15W"
      },
      "execution_count": null,
      "outputs": []
    },
    {
      "cell_type": "code",
      "source": [
        "dataset = CustumDataset(X , y)"
      ],
      "metadata": {
        "id": "T0MphGW_keDA"
      },
      "execution_count": null,
      "outputs": []
    },
    {
      "cell_type": "code",
      "source": [
        "len(dataset)"
      ],
      "metadata": {
        "colab": {
          "base_uri": "https://localhost:8080/"
        },
        "id": "6ayU1vkZlK_E",
        "outputId": "0ba01f77-39cf-46ae-c78f-e4c95148a4cb"
      },
      "execution_count": null,
      "outputs": [
        {
          "output_type": "execute_result",
          "data": {
            "text/plain": [
              "10"
            ]
          },
          "metadata": {},
          "execution_count": 44
        }
      ]
    },
    {
      "cell_type": "code",
      "source": [
        "dataset[2]"
      ],
      "metadata": {
        "colab": {
          "base_uri": "https://localhost:8080/"
        },
        "id": "YKJMG3NxljNj",
        "outputId": "e97c76d7-e9a7-44df-e9ea-7b5e4de26225"
      },
      "execution_count": null,
      "outputs": [
        {
          "output_type": "execute_result",
          "data": {
            "text/plain": [
              "(tensor([-2.8954,  1.9769]), tensor(0.))"
            ]
          },
          "metadata": {},
          "execution_count": 45
        }
      ]
    },
    {
      "cell_type": "code",
      "source": [
        "dataloader = DataLoader(dataset , batch_size=5 , shuffle=True)"
      ],
      "metadata": {
        "id": "ZiRSNaDilof-"
      },
      "execution_count": null,
      "outputs": []
    },
    {
      "cell_type": "code",
      "source": [
        "for batch_features, batch_labels in dataloader:\n",
        "\n",
        "  print(batch_features)\n",
        "  print(batch_labels)\n",
        "  print(\"-\"*50)"
      ],
      "metadata": {
        "colab": {
          "base_uri": "https://localhost:8080/"
        },
        "id": "8lEFLkRZl6ts",
        "outputId": "1c347ebf-3280-42bd-ff6f-381c58feb76c"
      },
      "execution_count": null,
      "outputs": [
        {
          "output_type": "stream",
          "name": "stdout",
          "text": [
            "tensor([[ 1.8997,  0.8344],\n",
            "        [-1.9629, -0.9923],\n",
            "        [ 1.7273, -1.1858],\n",
            "        [-0.5872, -1.9717],\n",
            "        [ 1.0683, -0.9701]])\n",
            "tensor([1., 0., 1., 0., 1.])\n",
            "--------------------------------------------------\n",
            "tensor([[-0.7206, -0.9606],\n",
            "        [-0.9382, -0.5430],\n",
            "        [ 1.7774,  1.5116],\n",
            "        [-1.1402, -0.8388],\n",
            "        [-2.8954,  1.9769]])\n",
            "tensor([0., 1., 1., 0., 0.])\n",
            "--------------------------------------------------\n"
          ]
        }
      ]
    },
    {
      "cell_type": "code",
      "source": [],
      "metadata": {
        "colab": {
          "base_uri": "https://localhost:8080/"
        },
        "id": "JprdVmeIpT-c",
        "outputId": "e2c57db0-6c00-40be-9472-d56146ad755d"
      },
      "execution_count": null,
      "outputs": [
        {
          "output_type": "stream",
          "name": "stdout",
          "text": [
            "cp: cannot stat 'content/Data loader and dataset.ipynb': No such file or directory\n"
          ]
        }
      ]
    },
    {
      "cell_type": "code",
      "source": [],
      "metadata": {
        "id": "LYj40VZkslxb"
      },
      "execution_count": null,
      "outputs": []
    }
  ]
}